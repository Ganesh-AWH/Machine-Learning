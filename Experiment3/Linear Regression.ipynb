{
 "cells": [
  {
   "cell_type": "code",
   "execution_count": 2,
   "id": "cbe3436b",
   "metadata": {},
   "outputs": [],
   "source": [
    "import numpy as np\n",
    "import pandas as pd\n",
    "import matplotlib.pyplot as plt\n",
    "from sklearn.model_selection import train_test_split\n",
    "from sklearn.linear_model import LinearRegression\n",
    "from sklearn.metrics import mean_squared_error, r2_score\n",
    "import yfinance as yf"
   ]
  },
  {
   "cell_type": "code",
   "execution_count": 8,
   "id": "5e953cef",
   "metadata": {},
   "outputs": [
    {
     "name": "stderr",
     "output_type": "stream",
     "text": [
      "[*********************100%***********************]  1 of 1 completed\n",
      "\n",
      "1 Failed download:\n",
      "['GC=F']: YFRateLimitError('Too Many Requests. Rate limited. Try after a while.')\n"
     ]
    },
    {
     "name": "stdout",
     "output_type": "stream",
     "text": [
      "Empty DataFrame\n",
      "Columns: [(Adj Close, GC=F), (Close, GC=F), (High, GC=F), (Low, GC=F), (Open, GC=F), (Volume, GC=F)]\n",
      "Index: []\n"
     ]
    }
   ],
   "source": [
    "#Data Collection\n",
    "gold_data=yf.download('GC=F',start='2010-01-01',end='2023-01-01')\n",
    "print(gold_data.head())"
   ]
  },
  {
   "cell_type": "code",
   "execution_count": 9,
   "id": "1f4d31ae",
   "metadata": {},
   "outputs": [
    {
     "name": "stdout",
     "output_type": "stream",
     "text": [
      "Empty DataFrame\n",
      "Columns: [(Date, ), (Close, GC=F)]\n",
      "Index: []\n"
     ]
    }
   ],
   "source": [
    "#Data preprocessing\n",
    "gold_data=gold_data[['Close']]\n",
    "gold_data=gold_data.dropna()\n",
    "gold_data.reset_index(inplace=True)\n",
    "gold_data['Date']=gold_data['Date'].map(pd.Timestamp.toordinal)\n",
    "print(gold_data.head())"
   ]
  },
  {
   "cell_type": "code",
   "execution_count": null,
   "id": "9ee70148",
   "metadata": {},
   "outputs": [
    {
     "ename": "NameError",
     "evalue": "name 'gold_data' is not defined",
     "output_type": "error",
     "traceback": [
      "\u001b[1;31m---------------------------------------------------------------------------\u001b[0m",
      "\u001b[1;31mNameError\u001b[0m                                 Traceback (most recent call last)",
      "Cell \u001b[1;32mIn[2], line 2\u001b[0m\n\u001b[0;32m      1\u001b[0m \u001b[38;5;66;03m#split data into training and testing sets\u001b[39;00m\n\u001b[1;32m----> 2\u001b[0m X\u001b[38;5;241m=\u001b[39m\u001b[43mgold_data\u001b[49m[[\u001b[38;5;124m'\u001b[39m\u001b[38;5;124mDate\u001b[39m\u001b[38;5;124m'\u001b[39m]]\n\u001b[0;32m      3\u001b[0m y\u001b[38;5;241m=\u001b[39mgold_data[\u001b[38;5;124m'\u001b[39m\u001b[38;5;124mClose\u001b[39m\u001b[38;5;124m'\u001b[39m]\n\u001b[0;32m      4\u001b[0m X_train, X_test, y_train, y_test \u001b[38;5;241m=\u001b[39m train_test_split(X, y, test_size\u001b[38;5;241m=\u001b[39m\u001b[38;5;241m0.2\u001b[39m, random_state\u001b[38;5;241m=\u001b[39m\u001b[38;5;241m42\u001b[39m)\n",
      "\u001b[1;31mNameError\u001b[0m: name 'gold_data' is not defined"
     ]
    }
   ],
   "source": [
    "#split data into training and testing sets\n",
    "X=gold_data[['Date']]\n",
    "y=gold_data['Close']\n",
    "X_train, X_test, y_train, y_test = train_test_split(X, y, test_size=0.2, random_state=42)"
   ]
  },
  {
   "cell_type": "code",
   "execution_count": null,
   "id": "31cdc50b",
   "metadata": {},
   "outputs": [],
   "source": [
    "#create and train the model\n",
    "model = LinearRegression()\n",
    "model.fit(X_train, y_train)"
   ]
  },
  {
   "cell_type": "code",
   "execution_count": null,
   "id": "3255ddb4",
   "metadata": {},
   "outputs": [],
   "source": [
    "#make predictions\n",
    "y_pred = model.predict(X_test)"
   ]
  },
  {
   "cell_type": "code",
   "execution_count": null,
   "id": "e8ee2767",
   "metadata": {},
   "outputs": [],
   "source": [
    "#evaluate the model\n",
    "mse = mean_squared_error(y_test, y_pred)\n",
    "r2 = r2_score(y_test, y_pred)\n",
    "print(\"Mean squared Error (MSE): \", mse)\n",
    "print(\"R^2 score: \", r2)\n"
   ]
  },
  {
   "cell_type": "code",
   "execution_count": null,
   "id": "ef6a9df6",
   "metadata": {},
   "outputs": [],
   "source": [
    "#visualize the results\n",
    "plt.figure(figsize=(10,6))\n",
    "plt.scatter(X_test, y_test, color=\"blue\", label=\"Actual Prices\")\n",
    "plt.plot(X_test, y_pred, color=\"red\", linewidth=2, label=\"predicted prices\")\n",
    "plt.xlabel(\"Date\")\n",
    "plt.ylabel(\"Gold Price\")\n",
    "plt.title(\"Gold Price Prediction using Linear Regression\")\n",
    "plt.legend()\n",
    "plt.show()"
   ]
  }
 ],
 "metadata": {
  "kernelspec": {
   "display_name": "my_lab",
   "language": "python",
   "name": "python3"
  },
  "language_info": {
   "codemirror_mode": {
    "name": "ipython",
    "version": 3
   },
   "file_extension": ".py",
   "mimetype": "text/x-python",
   "name": "python",
   "nbconvert_exporter": "python",
   "pygments_lexer": "ipython3",
   "version": "3.9.23"
  }
 },
 "nbformat": 4,
 "nbformat_minor": 5
}
